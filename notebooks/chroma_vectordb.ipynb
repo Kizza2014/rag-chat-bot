{
 "cells": [
  {
   "cell_type": "markdown",
   "id": "2a28d3e2",
   "metadata": {},
   "source": [
    "### 1. Getting started"
   ]
  },
  {
   "cell_type": "markdown",
   "id": "555a6766",
   "metadata": {},
   "source": [
    "Using ephemeral client for testing:"
   ]
  },
  {
   "cell_type": "code",
   "execution_count": null,
   "id": "985d6d19",
   "metadata": {},
   "outputs": [],
   "source": [
    "import chromadb\n",
    "\n",
    "chromadb_client = chromadb.Client(settings=)\n",
    "collection = chromadb_client.create_collection(name=\"my_collection\")"
   ]
  },
  {
   "cell_type": "code",
   "execution_count": 5,
   "id": "62c432a7",
   "metadata": {},
   "outputs": [
    {
     "name": "stderr",
     "output_type": "stream",
     "text": [
      "C:\\Users\\ADMIN\\.cache\\chroma\\onnx_models\\all-MiniLM-L6-v2\\onnx.tar.gz: 100%|██████████| 79.3M/79.3M [01:07<00:00, 1.23MiB/s]\n"
     ]
    }
   ],
   "source": [
    "collection.add(\n",
    "    ids=[\"id1\", \"id2\"],\n",
    "    documents=[\n",
    "        \"This is a document about pineapple\",\n",
    "        \"This is a document about orange\"\n",
    "    ]\n",
    ")"
   ]
  },
  {
   "cell_type": "code",
   "execution_count": 11,
   "id": "bd5090b0",
   "metadata": {},
   "outputs": [
    {
     "name": "stdout",
     "output_type": "stream",
     "text": [
      "{'data': None,\n",
      " 'distances': [[0.8258565068244934, 0.9539601802825928]],\n",
      " 'documents': [['This is a document about orange',\n",
      "                'This is a document about pineapple']],\n",
      " 'embeddings': None,\n",
      " 'ids': [['id2', 'id1']],\n",
      " 'included': ['metadatas', 'documents', 'distances'],\n",
      " 'metadatas': [[None, None]],\n",
      " 'uris': None}\n"
     ]
    }
   ],
   "source": [
    "from pprint import pprint\n",
    "results = collection.query(\n",
    "    query_texts=\"This is a document about lemon\",\n",
    "    n_results=2\n",
    ")\n",
    "pprint(results)"
   ]
  },
  {
   "cell_type": "markdown",
   "id": "ec41f644",
   "metadata": {},
   "source": [
    "### 2. Data model"
   ]
  },
  {
   "cell_type": "code",
   "execution_count": null,
   "id": "66ef6928",
   "metadata": {},
   "outputs": [],
   "source": []
  }
 ],
 "metadata": {
  "kernelspec": {
   "display_name": "rag-chatbot",
   "language": "python",
   "name": "python3"
  },
  "language_info": {
   "codemirror_mode": {
    "name": "ipython",
    "version": 3
   },
   "file_extension": ".py",
   "mimetype": "text/x-python",
   "name": "python",
   "nbconvert_exporter": "python",
   "pygments_lexer": "ipython3",
   "version": "3.10.18"
  }
 },
 "nbformat": 4,
 "nbformat_minor": 5
}
