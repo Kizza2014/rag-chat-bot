{
 "cells": [
  {
   "cell_type": "code",
   "execution_count": 1,
   "id": "60298cd7",
   "metadata": {},
   "outputs": [
    {
     "name": "stderr",
     "output_type": "stream",
     "text": [
      "e:\\miniconda3\\envs\\rag-chatbot\\lib\\site-packages\\tqdm\\auto.py:21: TqdmWarning: IProgress not found. Please update jupyter and ipywidgets. See https://ipywidgets.readthedocs.io/en/stable/user_install.html\n",
      "  from .autonotebook import tqdm as notebook_tqdm\n",
      "C:\\Users\\ADMIN\\AppData\\Local\\Temp\\ipykernel_25004\\2320563543.py:8: DeprecationWarning: Call to deprecated class Gemini. (Should use `llama-index-llms-google-genai` instead, using Google's latest unified SDK. See: https://docs.llamaindex.ai/en/stable/examples/llm/google_genai/)\n",
      "  response = Gemini(api_key=api_key).complete(\"William Shakespeare was a\")\n"
     ]
    },
    {
     "name": "stdout",
     "output_type": "stream",
     "text": [
      "William Shakespeare was a **renowned English poet, playwright, and actor, widely regarded as the greatest writer in the English language and the world's greatest dramatist.**\n",
      "\n"
     ]
    }
   ],
   "source": [
    "from llama_index.llms.gemini import Gemini\n",
    "from dotenv import load_dotenv\n",
    "import os\n",
    "\n",
    "load_dotenv()\n",
    "api_key = os.getenv('GOOGLE_API_KEY_GEMINI')\n",
    "\n",
    "response = Gemini(api_key=api_key).complete(\"William Shakespeare was a\")\n",
    "print(response)"
   ]
  },
  {
   "cell_type": "markdown",
   "id": "a34cf0bf",
   "metadata": {},
   "source": [
    "Async completion:"
   ]
  },
  {
   "cell_type": "code",
   "execution_count": 24,
   "id": "def17b80",
   "metadata": {},
   "outputs": [
    {
     "name": "stderr",
     "output_type": "stream",
     "text": [
      "C:\\Users\\ADMIN\\AppData\\Local\\Temp\\ipykernel_14572\\2237486971.py:1: DeprecationWarning: Call to deprecated class Gemini. (Should use `llama-index-llms-google-genai` instead, using Google's latest unified SDK. See: https://docs.llamaindex.ai/en/stable/examples/llm/google_genai/)\n",
      "  response = await Gemini(api_key=api_key).acomplete(\"William Shakespeare was a\")\n"
     ]
    },
    {
     "name": "stdout",
     "output_type": "stream",
     "text": [
      "William Shakespeare was a **playwright, poet, and actor**, widely regarded as the greatest writer in the English language and the world's greatest dramatist.\n",
      "\n"
     ]
    }
   ],
   "source": [
    "response = await Gemini(api_key=api_key).acomplete(\"William Shakespeare was a\")\n",
    "print(response)"
   ]
  },
  {
   "cell_type": "markdown",
   "id": "ae976b9b",
   "metadata": {},
   "source": [
    "Stream response:"
   ]
  },
  {
   "cell_type": "code",
   "execution_count": 22,
   "id": "ecbfc94e",
   "metadata": {},
   "outputs": [
    {
     "name": "stderr",
     "output_type": "stream",
     "text": [
      "C:\\Users\\ADMIN\\AppData\\Local\\Temp\\ipykernel_14572\\2660140489.py:1: DeprecationWarning: Call to deprecated class Gemini. (Should use `llama-index-llms-google-genai` instead, using Google's latest unified SDK. See: https://docs.llamaindex.ai/en/stable/examples/llm/google_genai/)\n",
      "  response = Gemini(api_key=api_key).stream_complete(\"William Shakespeare was a\")\n"
     ]
    },
    {
     "name": "stdout",
     "output_type": "stream",
     "text": [
      "WilliamWilliam Shakespeare was aWilliam Shakespeare was a **playwright, poet, and actor**, widely regarded as the greatest writer in theWilliam Shakespeare was a **playwright, poet, and actor**, widely regarded as the greatest writer in the English language and the world's greatest dramatist.\n"
     ]
    }
   ],
   "source": [
    "response = Gemini(api_key=api_key).stream_complete(\"William Shakespeare was a\")\n",
    "for chunk in response:\n",
    "    print(chunk, end='', flush=True)"
   ]
  }
 ],
 "metadata": {
  "kernelspec": {
   "display_name": "rag-chatbot",
   "language": "python",
   "name": "python3"
  },
  "language_info": {
   "codemirror_mode": {
    "name": "ipython",
    "version": 3
   },
   "file_extension": ".py",
   "mimetype": "text/x-python",
   "name": "python",
   "nbconvert_exporter": "python",
   "pygments_lexer": "ipython3",
   "version": "3.10.18"
  }
 },
 "nbformat": 4,
 "nbformat_minor": 5
}
